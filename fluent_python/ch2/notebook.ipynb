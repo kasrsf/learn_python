{
 "cells": [
  {
   "cell_type": "markdown",
   "metadata": {},
   "source": [
    "Example 2-1. Build a list of Unicode code points from a string"
   ]
  },
  {
   "cell_type": "code",
   "execution_count": 2,
   "metadata": {},
   "outputs": [
    {
     "data": {
      "text/plain": [
       "[36, 162, 163, 165, 8364, 164]"
      ]
     },
     "execution_count": 2,
     "metadata": {},
     "output_type": "execute_result"
    }
   ],
   "source": [
    "symbols = \"$¢£¥€¤\"\n",
    "codes = []\n",
    "for symbol in symbols:\n",
    "    codes.append(ord(symbol))\n",
    "\n",
    "codes"
   ]
  },
  {
   "cell_type": "markdown",
   "metadata": {},
   "source": [
    "Example 2-2. Build a list of Unicode code points from a string, using a listcomp"
   ]
  },
  {
   "cell_type": "code",
   "execution_count": 3,
   "metadata": {},
   "outputs": [
    {
     "data": {
      "text/plain": [
       "[36, 162, 163, 165, 8364, 164]"
      ]
     },
     "execution_count": 3,
     "metadata": {},
     "output_type": "execute_result"
    }
   ],
   "source": [
    "symbols = \"$¢£¥€¤\"\n",
    "codes = [ord(symbol) for symbol in symbols]\n",
    "codes"
   ]
  },
  {
   "cell_type": "markdown",
   "metadata": {},
   "source": [
    "Example 2-3. The same list built by a listcomp and a map/filter composition"
   ]
  },
  {
   "cell_type": "code",
   "execution_count": 4,
   "metadata": {},
   "outputs": [
    {
     "name": "stdout",
     "output_type": "stream",
     "text": [
      "[162, 163, 165, 8364, 164]\n",
      "[162, 163, 165, 8364, 164]\n"
     ]
    }
   ],
   "source": [
    "symbols = \"$¢£¥€¤\"\n",
    "beyond_ascii = [ord(s) for s in symbols if ord(s) > 127]\n",
    "print(beyond_ascii)\n",
    "\n",
    "beyond_ascii = list(filter(lambda c: c > 127, map(ord, symbols)))\n",
    "print(beyond_ascii)"
   ]
  },
  {
   "cell_type": "markdown",
   "metadata": {},
   "source": [
    "Example 2-4. Cartesian product using a list comprehension"
   ]
  },
  {
   "cell_type": "code",
   "execution_count": 7,
   "metadata": {},
   "outputs": [
    {
     "name": "stdout",
     "output_type": "stream",
     "text": [
      "[('black', 'S'), ('black', 'M'), ('black', 'L'), ('white', 'S'), ('white', 'M'), ('white', 'L')]\n",
      "---\n",
      "('black', 'S')\n",
      "('black', 'M')\n",
      "('black', 'L')\n",
      "('white', 'S')\n",
      "('white', 'M')\n",
      "('white', 'L')\n",
      "---\n",
      "[('black', 'S'), ('white', 'S'), ('black', 'M'), ('white', 'M'), ('black', 'L'), ('white', 'L')]\n"
     ]
    }
   ],
   "source": [
    "colors = [\"black\", \"white\"]\n",
    "sizes = [\"S\", \"M\", \"L\"]\n",
    "tshirts = [(color, size) for color in colors for size in sizes]\n",
    "print(tshirts)\n",
    "print(\"---\")\n",
    "for color in colors:\n",
    "    for size in sizes:\n",
    "        print((color, size))\n",
    "print(\"---\")\n",
    "tshirts = [(color, size) for size in sizes for color in colors]\n",
    "print(tshirts)"
   ]
  },
  {
   "cell_type": "markdown",
   "metadata": {},
   "source": [
    "Example 2-5. Initializing a tuple and an array from a generator expression"
   ]
  },
  {
   "cell_type": "code",
   "execution_count": 8,
   "metadata": {},
   "outputs": [
    {
     "name": "stdout",
     "output_type": "stream",
     "text": [
      "(36, 162, 163, 165, 8364, 164)\n"
     ]
    },
    {
     "data": {
      "text/plain": [
       "array('I', [36, 162, 163, 165, 8364, 164])"
      ]
     },
     "execution_count": 8,
     "metadata": {},
     "output_type": "execute_result"
    }
   ],
   "source": [
    "symbols = \"$¢£¥€¤\"\n",
    "print(tuple(ord(symbol) for symbol in symbols))\n",
    "import array\n",
    "\n",
    "array.array(\"I\", (ord(symbol) for symbol in symbols))"
   ]
  },
  {
   "cell_type": "markdown",
   "metadata": {},
   "source": [
    "Example 2-6. Cartesian product in a generator expression"
   ]
  },
  {
   "cell_type": "code",
   "execution_count": 9,
   "metadata": {},
   "outputs": [
    {
     "name": "stdout",
     "output_type": "stream",
     "text": [
      "black S\n",
      "black M\n",
      "black L\n",
      "white S\n",
      "white M\n",
      "white L\n"
     ]
    }
   ],
   "source": [
    "colors = [\"black\", \"white\"]\n",
    "sizes = [\"S\", \"M\", \"L\"]\n",
    "for tshirt in (f\"{c} {s}\" for c in colors for s in sizes):\n",
    "    print(tshirt)"
   ]
  },
  {
   "cell_type": "markdown",
   "metadata": {},
   "source": [
    "Example 2-7. Tuples used as records"
   ]
  },
  {
   "cell_type": "code",
   "execution_count": 13,
   "metadata": {},
   "outputs": [
    {
     "name": "stdout",
     "output_type": "stream",
     "text": [
      "BRA/CE342567\n",
      "ESP/XDA2050856\n",
      "USA/31195855\n",
      "----\n",
      "USA\n",
      "BRA\n",
      "ESP\n"
     ]
    }
   ],
   "source": [
    "lax_coordinates = (33.9425, -118.408056)\n",
    "city, year, pop, chg, area = (\"Tokyo\", 2003, 32_450, 0.66, 8014)\n",
    "traveler_ids = [(\"USA\", \"31195855\"), (\"BRA\", \"CE342567\"), (\"ESP\", \"XDA2050856\")]\n",
    "for passport in sorted(traveler_ids):\n",
    "    print(\"%s/%s\" % passport)\n",
    "print(\"----\")\n",
    "for country, _ in traveler_ids:\n",
    "    print(country)"
   ]
  },
  {
   "cell_type": "markdown",
   "metadata": {},
   "source": [
    "Example 2-8. Unpacking nested tuples to access the longitude"
   ]
  },
  {
   "cell_type": "code",
   "execution_count": 15,
   "metadata": {},
   "outputs": [
    {
     "name": "stdout",
     "output_type": "stream",
     "text": [
      "                |  latitude | longitude\n",
      "Mexico City     |   19.4333 |  -99.1333\n",
      "New York-Newark |   40.8086 |  -74.0204\n",
      "São Paulo       |  -23.5478 |  -46.6358\n"
     ]
    }
   ],
   "source": [
    "metro_areas = [\n",
    "    (\"Tokyo\", \"JP\", 36.933, (35.689722, 139.691667)),\n",
    "    (\"Delhi NCR\", \"IN\", 21.935, (28.613889, 77.208889)),\n",
    "    (\"Mexico City\", \"MX\", 20.142, (19.433333, -99.133333)),\n",
    "    (\"New York-Newark\", \"US\", 20.104, (40.808611, -74.020386)),\n",
    "    (\"São Paulo\", \"BR\", 19.649, (-23.547778, -46.635833)),\n",
    "]\n",
    "\n",
    "\n",
    "def main():\n",
    "    print(f\"{'':15} | {'latitude':>9} | {'longitude':>9}\")\n",
    "    for name, _, _, (lat, lon) in metro_areas:\n",
    "        if lon <= 0:\n",
    "            print(f\"{name:15} | {lat:9.4f} | {lon:9.4f}\")\n",
    "\n",
    "\n",
    "main()"
   ]
  },
  {
   "cell_type": "markdown",
   "metadata": {},
   "source": [
    "Example 2-9. Method from an imaginary *Robot* class"
   ]
  },
  {
   "cell_type": "code",
   "execution_count": 16,
   "metadata": {},
   "outputs": [],
   "source": [
    "def handle_command(self, message):\n",
    "    match message:\n",
    "        case [\"Beeper\", frequency, times]:\n",
    "            self.beep(times, frequency)\n",
    "        case [\"Neck\", angle]:\n",
    "            self.rotate_neck(angle)\n",
    "        case [\"LED\", ident, intensity]:\n",
    "            self.leds[ident].set_brightness(ident, intensity)\n",
    "        case [\"LED\", ident, red, green, blue]:\n",
    "            self.leds[ident].set_color(ident, red, green, blue)\n",
    "        case _:\n",
    "            raise Exception(message)"
   ]
  },
  {
   "cell_type": "markdown",
   "metadata": {},
   "source": [
    "Example 2-10. Destructuring nested tuples"
   ]
  },
  {
   "cell_type": "code",
   "execution_count": 19,
   "metadata": {},
   "outputs": [
    {
     "name": "stdout",
     "output_type": "stream",
     "text": [
      "                |  latitude | longitude\n",
      "Mexico City     |   19.4333 |  -99.1333\n",
      "New York-Newark |   40.8086 |  -74.0204\n",
      "São Paulo       |  -23.5478 |  -46.6358\n"
     ]
    }
   ],
   "source": [
    "metro_areas = [\n",
    "    (\"Tokyo\", \"JP\", 36.933, (35.689722, 139.691667)),\n",
    "    (\"Delhi NCR\", \"IN\", 21.935, (28.613889, 77.208889)),\n",
    "    (\"Mexico City\", \"MX\", 20.142, (19.433333, -99.133333)),\n",
    "    (\"New York-Newark\", \"US\", 20.104, (40.808611, -74.020386)),\n",
    "    (\"São Paulo\", \"BR\", 19.649, (-23.547778, -46.635833)),\n",
    "]\n",
    "\n",
    "\n",
    "def main():\n",
    "    print(f'{\"\":15} | {\"latitude\":>9} | {\"longitude\":>9}')\n",
    "    for record in metro_areas:\n",
    "        match record:\n",
    "            case [name, _, _, (lat, lon)] if lon <= 0:\n",
    "                print(f\"{name:15} | {lat:9.4f} | {lon:9.4f}\")\n",
    "\n",
    "\n",
    "main()"
   ]
  },
  {
   "cell_type": "markdown",
   "metadata": {},
   "source": [
    "Example 2-13. Line items ffrom a flat-file invoice"
   ]
  },
  {
   "cell_type": "code",
   "execution_count": 3,
   "metadata": {},
   "outputs": [
    {
     "name": "stdout",
     "output_type": "stream",
     "text": [
      "$17.50       Pimoroni PiBrella                 \n",
      "$4.95        6mm Tactile Switch x20            \n",
      "$28.00       Panavise Jr. - PV-201             \n",
      "$34.95       PiTFT Mini Kit 320x240            \n",
      " \n"
     ]
    }
   ],
   "source": [
    "invoice = \"\"\"\n",
    "0.....6.................................40........52...55........\n",
    "1909  Pimoroni PiBrella                 $17.50      3  $52.50\n",
    "1489  6mm Tactile Switch x20            $4.95       2  $9.90\n",
    "1510  Panavise Jr. - PV-201             $28.00      1  $28.00\n",
    "1601  PiTFT Mini Kit 320x240            $34.95      1  $34.95\n",
    "\"\"\"\n",
    "SKU = slice(0, 6)\n",
    "DESCRIPTION = slice(6, 40)\n",
    "UNIT_PRICE = slice(40, 52)\n",
    "QUANTITY = slice(52, 55)\n",
    "ITEM_TOTAL = slice(55, None)\n",
    "line_items = invoice.split(\"\\n\")[2:]\n",
    "for item in line_items:\n",
    "    print(item[UNIT_PRICE], item[DESCRIPTION])"
   ]
  },
  {
   "cell_type": "markdown",
   "metadata": {},
   "source": [
    "Example 2-14. A list with three lists of length 3 can represent a tic-tac-toe board"
   ]
  },
  {
   "cell_type": "code",
   "execution_count": 5,
   "metadata": {},
   "outputs": [
    {
     "name": "stdout",
     "output_type": "stream",
     "text": [
      "[['_', '_', '_'], ['_', '_', '_'], ['_', '_', '_']]\n",
      "[['_', '_', '_'], ['_', '_', 'X'], ['_', '_', '_']]\n"
     ]
    }
   ],
   "source": [
    "board = [[\"_\"] * 3 for i in range(3)]\n",
    "print(board)\n",
    "board[1][2] = \"X\"\n",
    "print(board)"
   ]
  },
  {
   "cell_type": "markdown",
   "metadata": {},
   "source": [
    "Example 2-15. A list with three references to the same list is useless"
   ]
  },
  {
   "cell_type": "code",
   "execution_count": 6,
   "metadata": {},
   "outputs": [
    {
     "name": "stdout",
     "output_type": "stream",
     "text": [
      "[['_', '_', '_'], ['_', '_', '_'], ['_', '_', '_']]\n"
     ]
    },
    {
     "data": {
      "text/plain": [
       "[['_', '_', 'O'], ['_', '_', 'O'], ['_', '_', 'O']]"
      ]
     },
     "execution_count": 6,
     "metadata": {},
     "output_type": "execute_result"
    }
   ],
   "source": [
    "weird_board = [[\"_\"] * 3] * 3\n",
    "print(weird_board)\n",
    "weird_board[1][2] = \"O\"\n",
    "weird_board"
   ]
  },
  {
   "cell_type": "markdown",
   "metadata": {},
   "source": [
    "Example 2-19. Creating, saving, and loading a large array of floats"
   ]
  },
  {
   "cell_type": "code",
   "execution_count": 12,
   "metadata": {},
   "outputs": [
    {
     "name": "stdout",
     "output_type": "stream",
     "text": [
      "0.25479517220125947\n",
      "0.25479517220125947\n"
     ]
    },
    {
     "data": {
      "text/plain": [
       "True"
      ]
     },
     "execution_count": 12,
     "metadata": {},
     "output_type": "execute_result"
    }
   ],
   "source": [
    "from array import array\n",
    "from random import random\n",
    "\n",
    "floats = array(\"d\", (random() for i in range(10**7)))\n",
    "print(floats[-1])\n",
    "fp = open(\"floats.bin\", \"wb\")\n",
    "floats.tofile(fp)\n",
    "fp.close()\n",
    "floats2 = array(\"d\")\n",
    "fp = open(\"floats.bin\", \"rb\")\n",
    "floats2.fromfile(fp, 10**7)\n",
    "fp.close()\n",
    "print(floats2[-1])\n",
    "floats2 == floats"
   ]
  },
  {
   "cell_type": "markdown",
   "metadata": {},
   "source": [
    "Example 2-20. Handling 6 bytes of memory as 1x6, 2x3, and 3x2 views"
   ]
  },
  {
   "cell_type": "code",
   "execution_count": 13,
   "metadata": {},
   "outputs": [
    {
     "name": "stdout",
     "output_type": "stream",
     "text": [
      "[0, 1, 2, 3, 4, 5]\n",
      "[[0, 1, 2], [3, 4, 5]]\n",
      "[[0, 1], [2, 3], [4, 5]]\n"
     ]
    },
    {
     "data": {
      "text/plain": [
       "array('B', [0, 1, 2, 33, 22, 5])"
      ]
     },
     "execution_count": 13,
     "metadata": {},
     "output_type": "execute_result"
    }
   ],
   "source": [
    "from array import array\n",
    "\n",
    "octets = array(\"B\", range(6))\n",
    "m1 = memoryview(octets)\n",
    "print(m1.tolist())\n",
    "m2 = m1.cast(\"B\", [2, 3])\n",
    "print(m2.tolist())\n",
    "m3 = m1.cast(\"B\", [3, 2])\n",
    "print(m3.tolist())\n",
    "m2[1, 1] = 22\n",
    "m3[1, 1] = 33\n",
    "octets"
   ]
  },
  {
   "cell_type": "markdown",
   "metadata": {},
   "source": [
    "Example 2-21. Changing the value of a 16-bit integer array item by poking one of its bytes"
   ]
  },
  {
   "cell_type": "code",
   "execution_count": 22,
   "metadata": {},
   "outputs": [
    {
     "name": "stdout",
     "output_type": "stream",
     "text": [
      "5\n",
      "-2\n"
     ]
    },
    {
     "data": {
      "text/plain": [
       "array('h', [-2, -1, 1024, 1, 2])"
      ]
     },
     "execution_count": 22,
     "metadata": {},
     "output_type": "execute_result"
    }
   ],
   "source": [
    "numbers = array(\"h\", [-2, -1, 0, 1, 2])\n",
    "memv = memoryview(numbers)\n",
    "print(len(memv))\n",
    "print(memv[0])\n",
    "memv_oct = memv.cast(\"B\")\n",
    "memv_oct.tolist()\n",
    "memv_oct[5] = 4\n",
    "numbers"
   ]
  },
  {
   "cell_type": "markdown",
   "metadata": {},
   "source": [
    "Example 2-22. Basic operations with rows and columns in a numpy.ndarray"
   ]
  },
  {
   "cell_type": "code",
   "execution_count": 3,
   "metadata": {},
   "outputs": [
    {
     "name": "stdout",
     "output_type": "stream",
     "text": [
      "[ 0  1  2  3  4  5  6  7  8  9 10 11]\n",
      "<class 'numpy.ndarray'>\n",
      "(12,)\n",
      "[[ 0  1  2  3]\n",
      " [ 4  5  6  7]\n",
      " [ 8  9 10 11]]\n",
      "[[ 0  4  8]\n",
      " [ 1  5  9]\n",
      " [ 2  6 10]\n",
      " [ 3  7 11]]\n"
     ]
    }
   ],
   "source": [
    "import numpy as np\n",
    "\n",
    "a = np.arange(12)\n",
    "print(a)\n",
    "print(type(a))\n",
    "print(a.shape)\n",
    "a.shape = 3, 4\n",
    "print(a)\n",
    "print(a.transpose())"
   ]
  },
  {
   "cell_type": "markdown",
   "metadata": {},
   "source": [
    "Example 2-23. Working with a deque"
   ]
  },
  {
   "cell_type": "code",
   "execution_count": 8,
   "metadata": {},
   "outputs": [
    {
     "data": {
      "text/plain": [
       "deque([0, 1, 2, 3, 4, 5, 6, 7, 8, 9], maxlen=10)"
      ]
     },
     "execution_count": 8,
     "metadata": {},
     "output_type": "execute_result"
    }
   ],
   "source": [
    "from collections import deque\n",
    "\n",
    "dq = deque(range(10), maxlen=10)\n",
    "dq"
   ]
  },
  {
   "cell_type": "code",
   "execution_count": 9,
   "metadata": {},
   "outputs": [
    {
     "data": {
      "text/plain": [
       "deque([7, 8, 9, 0, 1, 2, 3, 4, 5, 6], maxlen=10)"
      ]
     },
     "execution_count": 9,
     "metadata": {},
     "output_type": "execute_result"
    }
   ],
   "source": [
    "dq.rotate(3)\n",
    "dq"
   ]
  },
  {
   "cell_type": "code",
   "execution_count": 10,
   "metadata": {},
   "outputs": [
    {
     "data": {
      "text/plain": [
       "deque([1, 2, 3, 4, 5, 6, 7, 8, 9, 0], maxlen=10)"
      ]
     },
     "execution_count": 10,
     "metadata": {},
     "output_type": "execute_result"
    }
   ],
   "source": [
    "dq.rotate(-4)\n",
    "dq"
   ]
  },
  {
   "cell_type": "code",
   "execution_count": 11,
   "metadata": {},
   "outputs": [
    {
     "data": {
      "text/plain": [
       "deque([-1, 1, 2, 3, 4, 5, 6, 7, 8, 9], maxlen=10)"
      ]
     },
     "execution_count": 11,
     "metadata": {},
     "output_type": "execute_result"
    }
   ],
   "source": [
    "dq.appendleft(-1)\n",
    "dq"
   ]
  },
  {
   "cell_type": "code",
   "execution_count": 12,
   "metadata": {},
   "outputs": [
    {
     "data": {
      "text/plain": [
       "deque([3, 4, 5, 6, 7, 8, 9, 11, 22, 33], maxlen=10)"
      ]
     },
     "execution_count": 12,
     "metadata": {},
     "output_type": "execute_result"
    }
   ],
   "source": [
    "dq.extend([11, 22, 33])\n",
    "dq"
   ]
  },
  {
   "cell_type": "code",
   "execution_count": 13,
   "metadata": {},
   "outputs": [
    {
     "data": {
      "text/plain": [
       "deque([40, 30, 20, 10, 3, 4, 5, 6, 7, 8], maxlen=10)"
      ]
     },
     "execution_count": 13,
     "metadata": {},
     "output_type": "execute_result"
    }
   ],
   "source": [
    "dq.extendleft([10, 20, 30, 40])\n",
    "dq"
   ]
  }
 ],
 "metadata": {
  "kernelspec": {
   "display_name": ".venv",
   "language": "python",
   "name": "python3"
  },
  "language_info": {
   "codemirror_mode": {
    "name": "ipython",
    "version": 3
   },
   "file_extension": ".py",
   "mimetype": "text/x-python",
   "name": "python",
   "nbconvert_exporter": "python",
   "pygments_lexer": "ipython3",
   "version": "3.11.8"
  }
 },
 "nbformat": 4,
 "nbformat_minor": 2
}
